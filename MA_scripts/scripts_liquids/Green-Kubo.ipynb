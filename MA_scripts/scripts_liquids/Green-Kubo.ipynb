{
 "cells": [
  {
   "cell_type": "code",
   "execution_count": null,
   "id": "ea1ccb31",
   "metadata": {},
   "outputs": [],
   "source": [
    "import numpy as np\n",
    "import matplotlib.pyplot as plt \n",
    "from tqdm import tqdm \n",
    "from watercalc import AFC_Wiener\n",
    "import scipy as sc\n",
    "import scipy.constants as scc\n",
    "import statsmodels.api as sm\n",
    "from scipy.optimize import curve_fit\n",
    "import mdtraj as md\n",
    "from tqdm import tqdm\n",
    "kB = scc.Boltzmann"
   ]
  },
  {
   "cell_type": "code",
   "execution_count": 2,
   "id": "c4215ecc",
   "metadata": {},
   "outputs": [],
   "source": [
    "def GK(V,T,pth):\n",
    "\n",
    "    \"\"\"Green-Kubo\n",
    "\n",
    "    Parameters:\n",
    "    V - Volume in nm^3\n",
    "    T- Temperature in Kelvin\n",
    "    pth -- patho to data file\n",
    "\n",
    "\n",
    "\n",
    "   \"\"\"\n",
    "    \n",
    "    ffk = V**(-27)/(T*kB)\n",
    "    data = np.loadtxt(pth,comments=(\"#\",\"@\",\"&\"),unpack=True)\n",
    "    print(data[3].shape)\n",
    "    afc = AFC_Wiener(data)\n",
    "\n",
    "    plt.figure()\n",
    "    plt.plot(afc[1])\n",
    "    dt = data[0][1] - data[0][1]\n",
    "    integral = (sc.integrate.cumtrapz(afc[0],data[0,1:]*10**(-12),dx=dt))*ffk\n",
    "\n",
    "    DI = sc.integrate.cumtrapz(integral,data[0,2:]*10**(-12),dx=dt)\n",
    "    popt, pcov = curve_fit(lin,data[0,3:]*10**(-12),DI)\n",
    "    print(popt[0])\n",
    "\n",
    "    return popt[0]"
   ]
  },
  {
   "cell_type": "code",
   "execution_count": null,
   "id": "83f42dc1",
   "metadata": {},
   "outputs": [],
   "source": []
  }
 ],
 "metadata": {
  "kernelspec": {
   "display_name": "Python 3 (ipykernel)",
   "language": "python",
   "name": "python3"
  },
  "language_info": {
   "codemirror_mode": {
    "name": "ipython",
    "version": 3
   },
   "file_extension": ".py",
   "mimetype": "text/x-python",
   "name": "python",
   "nbconvert_exporter": "python",
   "pygments_lexer": "ipython3",
   "version": "3.9.13"
  }
 },
 "nbformat": 4,
 "nbformat_minor": 5
}
